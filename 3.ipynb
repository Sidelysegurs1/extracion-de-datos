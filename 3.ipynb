{
 "cells": [
  {
   "cell_type": "code",
   "execution_count": 6,
   "id": "979b5d12-6239-4bde-b967-8afcbf68fff0",
   "metadata": {},
   "outputs": [],
   "source": [
    "import yfinance as yf\n",
    "import pandas as pd\n"
   ]
  },
  {
   "cell_type": "code",
   "execution_count": 7,
   "id": "23ce096d-d578-47e1-8937-f2c8b3fd0b12",
   "metadata": {},
   "outputs": [],
   "source": [
    "# Define the ticker symbol for GameStop\n",
    "tickerSymbol = 'GME'\n"
   ]
  },
  {
   "cell_type": "code",
   "execution_count": 8,
   "id": "4c26c1fd-115f-4f98-afcf-38d8aaddae72",
   "metadata": {},
   "outputs": [],
   "source": [
    "# Get the data\n",
    "gme_data = yf.Ticker(tickerSymbol)\n"
   ]
  },
  {
   "cell_type": "code",
   "execution_count": 9,
   "id": "00214a7b-b897-4749-bca4-e6d9a5d01c0f",
   "metadata": {},
   "outputs": [],
   "source": [
    "# Extract the historical market data\n",
    "gme_hist = gme_data.history(period=\"max\")\n"
   ]
  },
  {
   "cell_type": "code",
   "execution_count": 10,
   "id": "65e4be7b-f521-4f9a-a567-da07b2a6a2f1",
   "metadata": {},
   "outputs": [],
   "source": [
    "# Reset the index\n",
    "gme_hist.reset_index(inplace=True)\n"
   ]
  },
  {
   "cell_type": "code",
   "execution_count": 11,
   "id": "daf22c5f-a347-4ae5-b79d-3f7957abc2db",
   "metadata": {},
   "outputs": [
    {
     "name": "stdout",
     "output_type": "stream",
     "text": [
      "                       Date      Open      High       Low     Close    Volume  \\\n",
      "0 2002-02-13 00:00:00-05:00  1.620129  1.693350  1.603296  1.691667  76216000   \n",
      "1 2002-02-14 00:00:00-05:00  1.712707  1.716074  1.670626  1.683250  11021600   \n",
      "2 2002-02-15 00:00:00-05:00  1.683250  1.687458  1.658001  1.674834   8389600   \n",
      "3 2002-02-19 00:00:00-05:00  1.666418  1.666418  1.578047  1.607504   7410400   \n",
      "4 2002-02-20 00:00:00-05:00  1.615920  1.662209  1.603296  1.662209   6892800   \n",
      "\n",
      "   Dividends  Stock Splits  \n",
      "0        0.0           0.0  \n",
      "1        0.0           0.0  \n",
      "2        0.0           0.0  \n",
      "3        0.0           0.0  \n",
      "4        0.0           0.0  \n"
     ]
    }
   ],
   "source": [
    "# Display the first five rows of the data\n",
    "print(gme_hist.head())"
   ]
  },
  {
   "cell_type": "code",
   "execution_count": null,
   "id": "a2b072a5-6b6a-437e-9f56-772fd8913e05",
   "metadata": {},
   "outputs": [],
   "source": []
  }
 ],
 "metadata": {
  "kernelspec": {
   "display_name": "Python 3 (ipykernel)",
   "language": "python",
   "name": "python3"
  },
  "language_info": {
   "codemirror_mode": {
    "name": "ipython",
    "version": 3
   },
   "file_extension": ".py",
   "mimetype": "text/x-python",
   "name": "python",
   "nbconvert_exporter": "python",
   "pygments_lexer": "ipython3",
   "version": "3.11.7"
  }
 },
 "nbformat": 4,
 "nbformat_minor": 5
}
