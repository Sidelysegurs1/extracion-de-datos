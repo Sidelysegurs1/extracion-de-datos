{
 "cells": [
  {
   "cell_type": "code",
   "execution_count": 10,
   "id": "e956a67d-128d-4c79-bc7b-c93983a7d8fa",
   "metadata": {},
   "outputs": [],
   "source": [
    "import requests\n",
    "from bs4 import BeautifulSoup\n",
    "import pandas as pd"
   ]
  },
  {
   "cell_type": "code",
   "execution_count": 11,
   "id": "2ebebdd8-4d8c-4f1b-a7bb-c1c9f5d42efe",
   "metadata": {},
   "outputs": [],
   "source": [
    "# URL de la página que queremos scrapear\n",
    "url = \"https://cf-courses-data.s3.us.cloud-object-storage.appdomain.cloud/IBMDeveloperSkillsNetwork-PY0220EN-SkillsNetwork/labs/project/revenue.htm\""
   ]
  },
  {
   "cell_type": "code",
   "execution_count": 12,
   "id": "3bafd258-1d7d-4fd9-8ad0-ba610136dadd",
   "metadata": {},
   "outputs": [],
   "source": [
    "# Realizamos la solicitud HTTP GET a la página\n",
    "response = requests.get(url)\n"
   ]
  },
  {
   "cell_type": "code",
   "execution_count": 13,
   "id": "5e350697-fc00-4ad4-bd09-2191eed78d00",
   "metadata": {},
   "outputs": [],
   "source": [
    "# Parseamos el contenido HTML de la página utilizando BeautifulSoup\n",
    "soup = BeautifulSoup(response.content, 'html.parser')\n"
   ]
  },
  {
   "cell_type": "code",
   "execution_count": 14,
   "id": "012717b4-0b73-47e4-8991-2b375ca83b39",
   "metadata": {},
   "outputs": [],
   "source": [
    "# Encontramos la tabla que contiene los datos de ingresos\n",
    "table = soup.find('table')\n",
    "\n"
   ]
  },
  {
   "cell_type": "code",
   "execution_count": 15,
   "id": "ffd174d1-1ae9-4630-b7f8-d3c77d8dd178",
   "metadata": {},
   "outputs": [],
   "source": [
    "# Creamos una lista vacía para almacenar los datos\n",
    "data = []\n"
   ]
  },
  {
   "cell_type": "code",
   "execution_count": 16,
   "id": "a3d60269-d2e4-4a18-9b2e-7fe8e152916c",
   "metadata": {},
   "outputs": [],
   "source": [
    "# Iteramos sobre las filas de la tabla\n",
    "for row in table.find_all('tr')[1:]:  # Saltamos la primera fila que es el título\n",
    "    cols = row.find_all('td')\n",
    "    cols = [col.text.strip() for col in cols]\n",
    "    data.append([col for col in cols if col])  # Eliminamos las celdas vacías\n",
    "\n"
   ]
  },
  {
   "cell_type": "code",
   "execution_count": 17,
   "id": "d4df3d40-dd8e-437f-af6f-2d27585948c8",
   "metadata": {},
   "outputs": [],
   "source": [
    "# Convertimos la lista en un DataFrame de Pandas\n",
    "df = pd.DataFrame(data, columns=['Year', 'Revenue (Millions)'])\n",
    "\n"
   ]
  },
  {
   "cell_type": "code",
   "execution_count": 18,
   "id": "d9b3ce92-409c-444c-b0b0-2af357642cc0",
   "metadata": {},
   "outputs": [
    {
     "name": "stdout",
     "output_type": "stream",
     "text": [
      "    Year Revenue (Millions)\n",
      "0   2021            $53,823\n",
      "1   2020            $31,536\n",
      "2   2019            $24,578\n",
      "3   2018            $21,461\n",
      "4   2017            $11,759\n",
      "5   2016             $7,000\n",
      "6   2015             $4,046\n",
      "7   2014             $3,198\n",
      "8   2013             $2,013\n",
      "9   2012               $413\n",
      "10  2011               $204\n",
      "11  2010               $117\n",
      "12  2009               $112\n"
     ]
    }
   ],
   "source": [
    "# Mostramos el DataFrame\n",
    "print(df)"
   ]
  },
  {
   "cell_type": "code",
   "execution_count": null,
   "id": "91dc0850-4b4a-4772-b162-36dc6dbf0192",
   "metadata": {},
   "outputs": [],
   "source": []
  }
 ],
 "metadata": {
  "kernelspec": {
   "display_name": "Python 3 (ipykernel)",
   "language": "python",
   "name": "python3"
  },
  "language_info": {
   "codemirror_mode": {
    "name": "ipython",
    "version": 3
   },
   "file_extension": ".py",
   "mimetype": "text/x-python",
   "name": "python",
   "nbconvert_exporter": "python",
   "pygments_lexer": "ipython3",
   "version": "3.11.7"
  }
 },
 "nbformat": 4,
 "nbformat_minor": 5
}
