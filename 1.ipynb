{
 "cells": [
  {
   "cell_type": "code",
   "execution_count": 7,
   "id": "9a756b71-a6d5-4d1f-85ae-dfa8723ac87b",
   "metadata": {},
   "outputs": [],
   "source": [
    "import yfinance as yf"
   ]
  },
  {
   "cell_type": "code",
   "execution_count": 12,
   "id": "81282620-c66b-4331-8cb4-3c2f43ef6a14",
   "metadata": {},
   "outputs": [],
   "source": [
    "# Define the ticker symbol for Tesla\n",
    "tickerSymbol = 'TSLA'"
   ]
  },
  {
   "cell_type": "code",
   "execution_count": 13,
   "id": "94b04cc3-5007-4b6a-9d4d-588fb66f88a0",
   "metadata": {},
   "outputs": [],
   "source": [
    "# Get the data\n",
    "tesla_data = yf.Ticker(tickerSymbol)"
   ]
  },
  {
   "cell_type": "code",
   "execution_count": 15,
   "id": "f0bec5e2-e52f-4ad3-a45a-ee43956155b4",
   "metadata": {},
   "outputs": [],
   "source": [
    "# Get the historical market data\n",
    "tesla_hist = tesla_data.history(period='max')"
   ]
  },
  {
   "cell_type": "code",
   "execution_count": 16,
   "id": "87eeef80-a879-4d21-a164-c03f546f41b1",
   "metadata": {},
   "outputs": [
    {
     "name": "stdout",
     "output_type": "stream",
     "text": [
      "                                 Open        High         Low       Close  \\\n",
      "Date                                                                        \n",
      "2010-06-29 00:00:00-04:00    1.266667    1.666667    1.169333    1.592667   \n",
      "2010-06-30 00:00:00-04:00    1.719333    2.028000    1.553333    1.588667   \n",
      "2010-07-01 00:00:00-04:00    1.666667    1.728000    1.351333    1.464000   \n",
      "2010-07-02 00:00:00-04:00    1.533333    1.540000    1.247333    1.280000   \n",
      "2010-07-06 00:00:00-04:00    1.333333    1.333333    1.055333    1.074000   \n",
      "...                               ...         ...         ...         ...   \n",
      "2024-07-02 00:00:00-04:00  218.889999  231.300003  218.059998  231.259995   \n",
      "2024-07-03 00:00:00-04:00  234.559998  248.350006  234.250000  246.389999   \n",
      "2024-07-05 00:00:00-04:00  249.809998  252.369995  242.460007  251.520004   \n",
      "2024-07-08 00:00:00-04:00  247.710007  259.440002  244.570007  252.940002   \n",
      "2024-07-09 00:00:00-04:00  251.000000  265.609985  250.300003  262.329987   \n",
      "\n",
      "                              Volume  Dividends  Stock Splits  \n",
      "Date                                                           \n",
      "2010-06-29 00:00:00-04:00  281494500        0.0           0.0  \n",
      "2010-06-30 00:00:00-04:00  257806500        0.0           0.0  \n",
      "2010-07-01 00:00:00-04:00  123282000        0.0           0.0  \n",
      "2010-07-02 00:00:00-04:00   77097000        0.0           0.0  \n",
      "2010-07-06 00:00:00-04:00  103003500        0.0           0.0  \n",
      "...                              ...        ...           ...  \n",
      "2024-07-02 00:00:00-04:00  205047900        0.0           0.0  \n",
      "2024-07-03 00:00:00-04:00  166561500        0.0           0.0  \n",
      "2024-07-05 00:00:00-04:00  154501200        0.0           0.0  \n",
      "2024-07-08 00:00:00-04:00  157219600        0.0           0.0  \n",
      "2024-07-09 00:00:00-04:00  159212692        0.0           0.0  \n",
      "\n",
      "[3530 rows x 7 columns]\n"
     ]
    }
   ],
   "source": [
    "# Print the data\n",
    "print(tesla_hist)"
   ]
  },
  {
   "cell_type": "code",
   "execution_count": null,
   "id": "fc8986a5-3f69-47a7-a683-ca2cd15a85e5",
   "metadata": {},
   "outputs": [],
   "source": []
  }
 ],
 "metadata": {
  "kernelspec": {
   "display_name": "Python 3 (ipykernel)",
   "language": "python",
   "name": "python3"
  },
  "language_info": {
   "codemirror_mode": {
    "name": "ipython",
    "version": 3
   },
   "file_extension": ".py",
   "mimetype": "text/x-python",
   "name": "python",
   "nbconvert_exporter": "python",
   "pygments_lexer": "ipython3",
   "version": "3.11.7"
  }
 },
 "nbformat": 4,
 "nbformat_minor": 5
}
