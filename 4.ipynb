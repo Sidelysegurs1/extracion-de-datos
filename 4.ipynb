{
 "cells": [
  {
   "cell_type": "code",
   "execution_count": 1,
   "id": "5e0143c0-26b2-4fa4-8b20-4df84af8d57d",
   "metadata": {},
   "outputs": [],
   "source": [
    "import requests\n",
    "from bs4 import BeautifulSoup\n",
    "import pandas as pd\n",
    "\n"
   ]
  },
  {
   "cell_type": "code",
   "execution_count": 2,
   "id": "15dd5e67-c682-4a1b-90ea-335a27bb5515",
   "metadata": {},
   "outputs": [],
   "source": [
    "# URL of the webpage\n",
    "url = \"https://cf-courses-data.s3.us.cloud-object-storage.appdomain.cloud/IBMDeveloperSkillsNetwork-PY0220EN-SkillsNetwork/labs/project/revenue.htm\"\n"
   ]
  },
  {
   "cell_type": "code",
   "execution_count": 3,
   "id": "b69641ab-4c4e-4e8b-ab1c-5fe0612a4591",
   "metadata": {},
   "outputs": [],
   "source": [
    "# Send an HTTP GET request to the webpage\n",
    "response = requests.get(url)\n",
    "\n"
   ]
  },
  {
   "cell_type": "code",
   "execution_count": 4,
   "id": "ba93293d-db35-4111-9b27-5782f0c261be",
   "metadata": {},
   "outputs": [],
   "source": [
    "# Parse the HTML content of the webpage using BeautifulSoup\n",
    "soup = BeautifulSoup(response.content, 'html.parser')\n"
   ]
  },
  {
   "cell_type": "code",
   "execution_count": 5,
   "id": "567999f4-9baf-4d30-8c8a-661316a67b33",
   "metadata": {},
   "outputs": [],
   "source": [
    "# Find the table that contains the revenue data\n",
    "table = soup.find('table')\n"
   ]
  },
  {
   "cell_type": "code",
   "execution_count": 6,
   "id": "a7741688-e080-4181-bafb-3f1811e1aebb",
   "metadata": {},
   "outputs": [],
   "source": [
    "# Extract the data from the table\n",
    "data = []\n",
    "for row in table.find_all('tr')[1:]:  # Skip the header row\n",
    "    cols = row.find_all('td')\n",
    "    cols = [col.text.strip() for col in cols]\n",
    "    data.append([col for col in cols if col])  # Remove empty cells\n"
   ]
  },
  {
   "cell_type": "code",
   "execution_count": 7,
   "id": "0a4e361b-8086-425f-be61-f3be6e2fa8b6",
   "metadata": {},
   "outputs": [],
   "source": [
    "# Convert the data into a Pandas DataFrame\n",
    "df = pd.DataFrame(data, columns=['Year', 'Revenue (Millions)'])\n",
    "\n"
   ]
  },
  {
   "cell_type": "code",
   "execution_count": 8,
   "id": "34a35367-0e71-47d0-97ad-7b1507f159c3",
   "metadata": {},
   "outputs": [
    {
     "name": "stdout",
     "output_type": "stream",
     "text": [
      "    Year Revenue (Millions)\n",
      "0   2021            $53,823\n",
      "1   2020            $31,536\n",
      "2   2019            $24,578\n",
      "3   2018            $21,461\n",
      "4   2017            $11,759\n",
      "5   2016             $7,000\n",
      "6   2015             $4,046\n",
      "7   2014             $3,198\n",
      "8   2013             $2,013\n",
      "9   2012               $413\n",
      "10  2011               $204\n",
      "11  2010               $117\n",
      "12  2009               $112\n"
     ]
    }
   ],
   "source": [
    "# Print the DataFrame\n",
    "print(df)"
   ]
  },
  {
   "cell_type": "code",
   "execution_count": null,
   "id": "95802b05-de98-4b52-8947-f3238601a735",
   "metadata": {},
   "outputs": [],
   "source": []
  }
 ],
 "metadata": {
  "kernelspec": {
   "display_name": "Python 3 (ipykernel)",
   "language": "python",
   "name": "python3"
  },
  "language_info": {
   "codemirror_mode": {
    "name": "ipython",
    "version": 3
   },
   "file_extension": ".py",
   "mimetype": "text/x-python",
   "name": "python",
   "nbconvert_exporter": "python",
   "pygments_lexer": "ipython3",
   "version": "3.11.7"
  }
 },
 "nbformat": 4,
 "nbformat_minor": 5
}
