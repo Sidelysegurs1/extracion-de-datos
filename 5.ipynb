{
 "cells": [
  {
   "cell_type": "code",
   "execution_count": 1,
   "id": "4e7110e9-549e-4b91-a898-792954ced1de",
   "metadata": {},
   "outputs": [],
   "source": [
    "import pandas as pd"
   ]
  },
  {
   "cell_type": "code",
   "execution_count": 2,
   "id": "c96c74ce-d52d-474c-beba-61cd87579cc1",
   "metadata": {},
   "outputs": [],
   "source": [
    "# URL of the web page\n",
    "url = \"https://cf-courses-data.s3.us.cloud-object-storage.appdomain.cloud/IBMDeveloperSkillsNetwork-PY0220EN-SkillsNetwork/labs/project/revenue.htm\"\n"
   ]
  },
  {
   "cell_type": "code",
   "execution_count": 3,
   "id": "4c7da454-6f76-4a54-86fd-8ed70311d06e",
   "metadata": {},
   "outputs": [],
   "source": [
    "# Load the HTML table into a Pandas DataFrame\n",
    "tables = pd.read_html(url)"
   ]
  },
  {
   "cell_type": "code",
   "execution_count": 4,
   "id": "0f52e5af-c220-4293-a89d-e8bbcf8ae2c3",
   "metadata": {},
   "outputs": [],
   "source": [
    "# Select the first table (assuming it's the one we want)\n",
    "tesla_revenue = tables[0]"
   ]
  },
  {
   "cell_type": "code",
   "execution_count": 5,
   "id": "717f4fdd-043b-4709-8166-7dfef718010b",
   "metadata": {},
   "outputs": [
    {
     "name": "stdout",
     "output_type": "stream",
     "text": [
      "Index(['Tesla Annual Revenue (Millions of US $)', 'Tesla Annual Revenue (Millions of US $).1'], dtype='object')\n"
     ]
    }
   ],
   "source": [
    "# Print the column names\n",
    "print(tesla_revenue.columns)"
   ]
  },
  {
   "cell_type": "code",
   "execution_count": 6,
   "id": "1b3cee58-ea95-407e-be0d-c454b8efb09c",
   "metadata": {},
   "outputs": [
    {
     "name": "stdout",
     "output_type": "stream",
     "text": [
      "   Tesla Annual Revenue (Millions of US $)  \\\n",
      "0                                     2021   \n",
      "1                                     2020   \n",
      "2                                     2019   \n",
      "3                                     2018   \n",
      "4                                     2017   \n",
      "\n",
      "  Tesla Annual Revenue (Millions of US $).1  \n",
      "0                                   $53,823  \n",
      "1                                   $31,536  \n",
      "2                                   $24,578  \n",
      "3                                   $21,461  \n",
      "4                                   $11,759  \n"
     ]
    }
   ],
   "source": [
    "# Print the first few rows of the data\n",
    "print(tesla_revenue.head())"
   ]
  },
  {
   "cell_type": "code",
   "execution_count": null,
   "id": "bfd291ec-895a-45a7-a50d-cccc58f2a6a4",
   "metadata": {},
   "outputs": [],
   "source": []
  }
 ],
 "metadata": {
  "kernelspec": {
   "display_name": "Python 3 (ipykernel)",
   "language": "python",
   "name": "python3"
  },
  "language_info": {
   "codemirror_mode": {
    "name": "ipython",
    "version": 3
   },
   "file_extension": ".py",
   "mimetype": "text/x-python",
   "name": "python",
   "nbconvert_exporter": "python",
   "pygments_lexer": "ipython3",
   "version": "3.11.7"
  }
 },
 "nbformat": 4,
 "nbformat_minor": 5
}
